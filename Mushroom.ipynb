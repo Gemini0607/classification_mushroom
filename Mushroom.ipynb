{
 "cells": [
  {
   "cell_type": "code",
   "execution_count": 1,
   "metadata": {
    "collapsed": true
   },
   "outputs": [],
   "source": [
    "import numpy as np\n",
    "import pandas as pd\n",
    "from pandas import DataFrame, Series\n",
    "from sklearn import metrics\n",
    "import seaborn as sns\n",
    "import matplotlib.pyplot as plt"
   ]
  },
  {
   "cell_type": "code",
   "execution_count": 2,
   "metadata": {
    "collapsed": true
   },
   "outputs": [],
   "source": [
    "from sklearn.metrics import roc_auc_score\n",
    "from sklearn.metrics import confusion_matrix\n",
    "from sklearn.metrics import classification_report"
   ]
  },
  {
   "cell_type": "code",
   "execution_count": 3,
   "metadata": {},
   "outputs": [
    {
     "data": {
      "text/html": [
       "<div>\n",
       "<style>\n",
       "    .dataframe thead tr:only-child th {\n",
       "        text-align: right;\n",
       "    }\n",
       "\n",
       "    .dataframe thead th {\n",
       "        text-align: left;\n",
       "    }\n",
       "\n",
       "    .dataframe tbody tr th {\n",
       "        vertical-align: top;\n",
       "    }\n",
       "</style>\n",
       "<table border=\"1\" class=\"dataframe\">\n",
       "  <thead>\n",
       "    <tr style=\"text-align: right;\">\n",
       "      <th></th>\n",
       "      <th>type</th>\n",
       "      <th>cap_shape</th>\n",
       "      <th>cap_surface</th>\n",
       "      <th>cap_color</th>\n",
       "      <th>bruises</th>\n",
       "      <th>odour</th>\n",
       "      <th>gill_attachment</th>\n",
       "      <th>gill_spacing</th>\n",
       "      <th>gill_size</th>\n",
       "      <th>gill_color</th>\n",
       "      <th>...</th>\n",
       "      <th>stalk_sbr</th>\n",
       "      <th>stalk_car</th>\n",
       "      <th>stalk_cbr</th>\n",
       "      <th>veil_type</th>\n",
       "      <th>veil_color</th>\n",
       "      <th>ring_no</th>\n",
       "      <th>ring_type</th>\n",
       "      <th>spore_print_col</th>\n",
       "      <th>population</th>\n",
       "      <th>habitat</th>\n",
       "    </tr>\n",
       "  </thead>\n",
       "  <tbody>\n",
       "    <tr>\n",
       "      <th>0</th>\n",
       "      <td>p</td>\n",
       "      <td>x</td>\n",
       "      <td>s</td>\n",
       "      <td>n</td>\n",
       "      <td>t</td>\n",
       "      <td>p</td>\n",
       "      <td>f</td>\n",
       "      <td>c</td>\n",
       "      <td>n</td>\n",
       "      <td>k</td>\n",
       "      <td>...</td>\n",
       "      <td>s</td>\n",
       "      <td>w</td>\n",
       "      <td>w</td>\n",
       "      <td>p</td>\n",
       "      <td>w</td>\n",
       "      <td>o</td>\n",
       "      <td>p</td>\n",
       "      <td>k</td>\n",
       "      <td>s</td>\n",
       "      <td>u</td>\n",
       "    </tr>\n",
       "    <tr>\n",
       "      <th>1</th>\n",
       "      <td>e</td>\n",
       "      <td>x</td>\n",
       "      <td>s</td>\n",
       "      <td>y</td>\n",
       "      <td>t</td>\n",
       "      <td>a</td>\n",
       "      <td>f</td>\n",
       "      <td>c</td>\n",
       "      <td>b</td>\n",
       "      <td>k</td>\n",
       "      <td>...</td>\n",
       "      <td>s</td>\n",
       "      <td>w</td>\n",
       "      <td>w</td>\n",
       "      <td>p</td>\n",
       "      <td>w</td>\n",
       "      <td>o</td>\n",
       "      <td>p</td>\n",
       "      <td>n</td>\n",
       "      <td>n</td>\n",
       "      <td>g</td>\n",
       "    </tr>\n",
       "    <tr>\n",
       "      <th>2</th>\n",
       "      <td>e</td>\n",
       "      <td>b</td>\n",
       "      <td>s</td>\n",
       "      <td>w</td>\n",
       "      <td>t</td>\n",
       "      <td>l</td>\n",
       "      <td>f</td>\n",
       "      <td>c</td>\n",
       "      <td>b</td>\n",
       "      <td>n</td>\n",
       "      <td>...</td>\n",
       "      <td>s</td>\n",
       "      <td>w</td>\n",
       "      <td>w</td>\n",
       "      <td>p</td>\n",
       "      <td>w</td>\n",
       "      <td>o</td>\n",
       "      <td>p</td>\n",
       "      <td>n</td>\n",
       "      <td>n</td>\n",
       "      <td>m</td>\n",
       "    </tr>\n",
       "    <tr>\n",
       "      <th>3</th>\n",
       "      <td>p</td>\n",
       "      <td>x</td>\n",
       "      <td>y</td>\n",
       "      <td>w</td>\n",
       "      <td>t</td>\n",
       "      <td>p</td>\n",
       "      <td>f</td>\n",
       "      <td>c</td>\n",
       "      <td>n</td>\n",
       "      <td>n</td>\n",
       "      <td>...</td>\n",
       "      <td>s</td>\n",
       "      <td>w</td>\n",
       "      <td>w</td>\n",
       "      <td>p</td>\n",
       "      <td>w</td>\n",
       "      <td>o</td>\n",
       "      <td>p</td>\n",
       "      <td>k</td>\n",
       "      <td>s</td>\n",
       "      <td>u</td>\n",
       "    </tr>\n",
       "    <tr>\n",
       "      <th>4</th>\n",
       "      <td>e</td>\n",
       "      <td>x</td>\n",
       "      <td>s</td>\n",
       "      <td>g</td>\n",
       "      <td>f</td>\n",
       "      <td>n</td>\n",
       "      <td>f</td>\n",
       "      <td>w</td>\n",
       "      <td>b</td>\n",
       "      <td>k</td>\n",
       "      <td>...</td>\n",
       "      <td>s</td>\n",
       "      <td>w</td>\n",
       "      <td>w</td>\n",
       "      <td>p</td>\n",
       "      <td>w</td>\n",
       "      <td>o</td>\n",
       "      <td>e</td>\n",
       "      <td>n</td>\n",
       "      <td>a</td>\n",
       "      <td>g</td>\n",
       "    </tr>\n",
       "  </tbody>\n",
       "</table>\n",
       "<p>5 rows × 23 columns</p>\n",
       "</div>"
      ],
      "text/plain": [
       "  type cap_shape cap_surface cap_color bruises odour gill_attachment  \\\n",
       "0    p         x           s         n       t     p               f   \n",
       "1    e         x           s         y       t     a               f   \n",
       "2    e         b           s         w       t     l               f   \n",
       "3    p         x           y         w       t     p               f   \n",
       "4    e         x           s         g       f     n               f   \n",
       "\n",
       "  gill_spacing gill_size gill_color   ...   stalk_sbr stalk_car stalk_cbr  \\\n",
       "0            c         n          k   ...           s         w         w   \n",
       "1            c         b          k   ...           s         w         w   \n",
       "2            c         b          n   ...           s         w         w   \n",
       "3            c         n          n   ...           s         w         w   \n",
       "4            w         b          k   ...           s         w         w   \n",
       "\n",
       "  veil_type veil_color ring_no ring_type spore_print_col population habitat  \n",
       "0         p          w       o         p               k          s       u  \n",
       "1         p          w       o         p               n          n       g  \n",
       "2         p          w       o         p               n          n       m  \n",
       "3         p          w       o         p               k          s       u  \n",
       "4         p          w       o         e               n          a       g  \n",
       "\n",
       "[5 rows x 23 columns]"
      ]
     },
     "execution_count": 3,
     "metadata": {},
     "output_type": "execute_result"
    }
   ],
   "source": [
    "names = ['type','cap_shape','cap_surface','cap_color','bruises','odour','gill_attachment','gill_spacing','gill_size',\\\n",
    "         'gill_color','stalk_shape','stalk_root','stalk_sar','stalk_sbr','stalk_car','stalk_cbr','veil_type','veil_color',\\\n",
    "         'ring_no','ring_type','spore_print_col','population','habitat']\n",
    "df = pd.read_csv('data.txt',header=None,names = names)\n",
    "df.head()"
   ]
  },
  {
   "cell_type": "code",
   "execution_count": 4,
   "metadata": {},
   "outputs": [
    {
     "name": "stdout",
     "output_type": "stream",
     "text": [
      "Categories and their respective values: [{'p': 1, 'e': 0}, {'x': 5, 'b': 0, 's': 4, 'f': 2, 'k': 3, 'c': 1}, {'s': 2, 'y': 3, 'f': 0, 'g': 1}, {'n': 4, 'y': 9, 'w': 8, 'g': 3, 'e': 2, 'p': 5, 'b': 0, 'u': 7, 'c': 1, 'r': 6}, {'t': 1, 'f': 0}, {'p': 6, 'a': 0, 'l': 3, 'n': 5, 'f': 2, 'c': 1, 'y': 8, 's': 7, 'm': 4}, {'f': 1, 'a': 0}, {'c': 0, 'w': 1}, {'n': 1, 'b': 0}, {'k': 4, 'n': 5, 'g': 2, 'p': 7, 'w': 10, 'h': 3, 'u': 9, 'e': 1, 'b': 0, 'r': 8, 'y': 11, 'o': 6}, {'e': 0, 't': 1}, {'e': 3, 'c': 2, 'b': 1, 'r': 4, '?': 0}, {'s': 2, 'f': 0, 'k': 1, 'y': 3}, {'s': 2, 'f': 0, 'y': 3, 'k': 1}, {'w': 7, 'g': 3, 'p': 6, 'n': 4, 'b': 0, 'e': 2, 'o': 5, 'c': 1, 'y': 8}, {'w': 7, 'p': 6, 'g': 3, 'b': 0, 'n': 4, 'e': 2, 'y': 8, 'o': 5, 'c': 1}, {'p': 0}, {'w': 2, 'n': 0, 'o': 1, 'y': 3}, {'o': 1, 't': 2, 'n': 0}, {'p': 4, 'e': 0, 'l': 2, 'f': 1, 'n': 3}, {'k': 2, 'n': 3, 'u': 6, 'h': 1, 'w': 7, 'r': 5, 'o': 4, 'y': 8, 'b': 0}, {'s': 3, 'n': 2, 'a': 0, 'v': 4, 'y': 5, 'c': 1}, {'u': 5, 'g': 1, 'm': 3, 'd': 0, 'p': 4, 'w': 6, 'l': 2}]\n"
     ]
    }
   ],
   "source": [
    "lookup = []\n",
    "for i in df.columns:\n",
    "    names = df[i]\n",
    "    l = {}\n",
    "   \n",
    "    if df[i].dtype == 'object':\n",
    "        df[i] = pd.Categorical(df[i])\n",
    "        df[i] = df[i].cat.codes\n",
    "        \n",
    "        for x in range(len(names)):\n",
    "            if names[x] not in l:\n",
    "                l[names[x]] = df[i][x]\n",
    "            \n",
    "        lookup.append(l)\n",
    "\n",
    "print('Categories and their respective values:',lookup)"
   ]
  },
  {
   "cell_type": "code",
   "execution_count": 5,
   "metadata": {
    "scrolled": true
   },
   "outputs": [
    {
     "name": "stdout",
     "output_type": "stream",
     "text": [
      "Feature Variable Dimension: (8124, 22)\n",
      "Target Variable Dimension: (8124,)\n"
     ]
    }
   ],
   "source": [
    "X = df.drop('type',axis=1)\n",
    "print('Feature Variable Dimension:',X.shape)\n",
    "y = df.type\n",
    "print('Target Variable Dimension:',y.shape)"
   ]
  },
  {
   "cell_type": "markdown",
   "metadata": {},
   "source": [
    "<h1>Performing Principal Components Analysis "
   ]
  },
  {
   "cell_type": "markdown",
   "metadata": {},
   "source": [
    "It is observed that reducing the Feature dimensions form 22 to 12 does not has a huge impact on the Classifier Accuracy. The details regading performance of the clasifier before and after PCA have been explained in the accompanied text file. "
   ]
  },
  {
   "cell_type": "code",
   "execution_count": 6,
   "metadata": {},
   "outputs": [
    {
     "name": "stdout",
     "output_type": "stream",
     "text": [
      "[ 0.34  0.51  0.63  0.7   0.76  0.81  0.86  0.9   0.94  0.97  0.99  1.  ]\n",
      "[ 0.33758733  0.16581098  0.12285821  0.06796611  0.05831173  0.05092539\n",
      "  0.04670841  0.03908416  0.03577877  0.02591613  0.01995434  0.01029534]\n"
     ]
    },
    {
     "data": {
      "image/png": "[encoded data removed]",
      "text/plain": [
       "<matplotlib.figure.Figure at 0x1dd61080f28>"
      ]
     },
     "metadata": {},
     "output_type": "display_data"
    }
   ],
   "source": [
    "from sklearn.decomposition import PCA\n",
    "pca = PCA(n_components=12) \n",
    "\n",
    "pca.fit(X) \n",
    "X = pca.transform(X)\n",
    "\n",
    "var=np.cumsum(np.round(pca.explained_variance_ratio_, decimals=2))\n",
    "print (var)\n",
    "print(pca.explained_variance_ratio_)\n",
    "\n",
    "plt.plot(var)\n",
    "plt.show()\n"
   ]
  },
  {
   "cell_type": "code",
   "execution_count": 7,
   "metadata": {},
   "outputs": [
    {
     "name": "stdout",
     "output_type": "stream",
     "text": [
      "X Train: (6093, 12)\n",
      "X Test: (2031, 12)\n",
      "Y Train: (6093,)\n",
      "Y Test: (2031,)\n"
     ]
    }
   ],
   "source": [
    "from sklearn.model_selection import train_test_split\n",
    "X_train, X_test, Y_train, Y_test = train_test_split(X, y, test_size = 0.25, random_state = 12)\n",
    "print('X Train:',X_train.shape)\n",
    "print('X Test:',X_test.shape)\n",
    "print('Y Train:',Y_train.shape)\n",
    "print('Y Test:',Y_test.shape)"
   ]
  },
  {
   "cell_type": "markdown",
   "metadata": {},
   "source": [
    "<h1>KNN"
   ]
  },
  {
   "cell_type": "code",
   "execution_count": 8,
   "metadata": {},
   "outputs": [
    {
     "name": "stdout",
     "output_type": "stream",
     "text": [
      "KNN Accuracy with default parameters: 99.9507631709 %\n"
     ]
    }
   ],
   "source": [
    "from sklearn.neighbors import KNeighborsClassifier\n",
    "knn = KNeighborsClassifier(n_neighbors=5, weights='uniform', n_jobs=-1)\n",
    "\n",
    "knn_model = knn.fit(X_train, Y_train)\n",
    "knn_predict = knn.predict(X_test)\n",
    "\n",
    "print ('KNN Accuracy with default parameters:',metrics.accuracy_score(knn_predict, Y_test)*100,'%')"
   ]
  },
  {
   "cell_type": "code",
   "execution_count": 9,
   "metadata": {
    "scrolled": true
   },
   "outputs": [
    {
     "name": "stdout",
     "output_type": "stream",
     "text": [
      "AUC ROC Score for KNN Classifier: 0.999511241447\n",
      "Confusion Matrix: \n",
      " [[1022    1]\n",
      " [   0 1008]]\n",
      "Classification Report: \n",
      "              precision    recall  f1-score   support\n",
      "\n",
      "          0       1.00      1.00      1.00      1023\n",
      "          1       1.00      1.00      1.00      1008\n",
      "\n",
      "avg / total       1.00      1.00      1.00      2031\n",
      "\n"
     ]
    }
   ],
   "source": [
    "# Relevant Metrics\n",
    "print('AUC ROC Score for KNN Classifier:',roc_auc_score(Y_test,knn_predict))\n",
    "\n",
    "print('Confusion Matrix:','\\n',confusion_matrix(Y_test,knn_predict))\n",
    "\n",
    "print('Classification Report:','\\n',classification_report(Y_test,knn_predict))"
   ]
  },
  {
   "cell_type": "markdown",
   "metadata": {},
   "source": [
    "<h1> Logistic Regression"
   ]
  },
  {
   "cell_type": "code",
   "execution_count": 10,
   "metadata": {},
   "outputs": [
    {
     "name": "stdout",
     "output_type": "stream",
     "text": [
      "Logistic Regression Accuracy with default parameters: 88.6262924668 %\n"
     ]
    }
   ],
   "source": [
    "from sklearn.linear_model import LogisticRegression\n",
    "lr = LogisticRegression(random_state=10)\n",
    "lr_model = lr.fit(X_train, Y_train)\n",
    "lr_predict = lr.predict(X_test)\n",
    "\n",
    "print ('Logistic Regression Accuracy with default parameters:',metrics.accuracy_score(lr_predict, Y_test)*100,'%')"
   ]
  },
  {
   "cell_type": "code",
   "execution_count": 11,
   "metadata": {
    "scrolled": true
   },
   "outputs": [
    {
     "name": "stdout",
     "output_type": "stream",
     "text": [
      "AUC ROC Score for Logistic Regression: 0.885998522087\n",
      "Confusion Matrix: \n",
      " [[943  80]\n",
      " [151 857]]\n",
      "Classification Report:              precision    recall  f1-score   support\n",
      "\n",
      "          0       0.86      0.92      0.89      1023\n",
      "          1       0.91      0.85      0.88      1008\n",
      "\n",
      "avg / total       0.89      0.89      0.89      2031\n",
      "\n"
     ]
    }
   ],
   "source": [
    "print('AUC ROC Score for Logistic Regression:',roc_auc_score(Y_test,lr_predict))\n",
    "\n",
    "print('Confusion Matrix:','\\n',confusion_matrix(Y_test,lr_predict))\n",
    "\n",
    "print('Classification Report:',classification_report(Y_test,lr_predict))"
   ]
  },
  {
   "cell_type": "markdown",
   "metadata": {},
   "source": [
    "<h1> Decision Tree Classifier"
   ]
  },
  {
   "cell_type": "code",
   "execution_count": 12,
   "metadata": {},
   "outputs": [
    {
     "name": "stdout",
     "output_type": "stream",
     "text": [
      "Decision Tree Accuracy with default parameters: 99.3599212211 %\n"
     ]
    }
   ],
   "source": [
    "from sklearn.tree import DecisionTreeClassifier\n",
    "dtc = DecisionTreeClassifier(random_state=10)\n",
    "dtc_model = dtc.fit(X_train, Y_train)\n",
    "dtc_predict = dtc.predict(X_test)\n",
    "\n",
    "print ('Decision Tree Accuracy with default parameters:',metrics.accuracy_score(dtc_predict, Y_test)*100,'%')"
   ]
  },
  {
   "cell_type": "code",
   "execution_count": 13,
   "metadata": {},
   "outputs": [
    {
     "name": "stdout",
     "output_type": "stream",
     "text": [
      "AUC ROC Score for Decision Tree: 0.993580680073\n",
      "Confusion Matrix: \n",
      " [[1019    4]\n",
      " [   9  999]]\n",
      "Classification Report:              precision    recall  f1-score   support\n",
      "\n",
      "          0       0.99      1.00      0.99      1023\n",
      "          1       1.00      0.99      0.99      1008\n",
      "\n",
      "avg / total       0.99      0.99      0.99      2031\n",
      "\n"
     ]
    }
   ],
   "source": [
    "print('AUC ROC Score for Decision Tree:',roc_auc_score(Y_test,dtc_predict))\n",
    "\n",
    "print('Confusion Matrix:','\\n',confusion_matrix(Y_test,dtc_predict))\n",
    "\n",
    "print('Classification Report:',classification_report(Y_test,dtc_predict))"
   ]
  },
  {
   "cell_type": "markdown",
   "metadata": {},
   "source": [
    "<h1>Support Vector Classifier"
   ]
  },
  {
   "cell_type": "code",
   "execution_count": 14,
   "metadata": {},
   "outputs": [
    {
     "name": "stdout",
     "output_type": "stream",
     "text": [
      "Support Vector Classifier Accuracy with default parameters: 100.0 %\n"
     ]
    }
   ],
   "source": [
    "from sklearn.svm import SVC\n",
    "svc = SVC(random_state=12)\n",
    "svc_model = svc.fit(X_train, Y_train)\n",
    "svc_predict = svc.predict(X_test)\n",
    "\n",
    "print ('Support Vector Classifier Accuracy with default parameters:',metrics.accuracy_score(svc_predict, Y_test)*100,'%')\n"
   ]
  },
  {
   "cell_type": "code",
   "execution_count": 15,
   "metadata": {},
   "outputs": [
    {
     "name": "stdout",
     "output_type": "stream",
     "text": [
      "AUC ROC Score for Support Vector Classifier: 1.0\n",
      "Confusion Matrix: \n",
      " [[1023    0]\n",
      " [   0 1008]]\n",
      "Classification Report: \n",
      "              precision    recall  f1-score   support\n",
      "\n",
      "          0       1.00      1.00      1.00      1023\n",
      "          1       1.00      1.00      1.00      1008\n",
      "\n",
      "avg / total       1.00      1.00      1.00      2031\n",
      "\n"
     ]
    }
   ],
   "source": [
    "print('AUC ROC Score for Support Vector Classifier:',roc_auc_score(Y_test,svc_predict))\n",
    "\n",
    "print('Confusion Matrix:','\\n',confusion_matrix(Y_test,svc_predict))\n",
    "\n",
    "print('Classification Report:','\\n',classification_report(Y_test,svc_predict))"
   ]
  },
  {
   "cell_type": "code",
   "execution_count": null,
   "metadata": {
    "collapsed": true
   },
   "outputs": [],
   "source": []
  }
 ],
 "metadata": {
  "kernelspec": {
   "display_name": "Python 3",
   "language": "python",
   "name": "python3"
  },
  "language_info": {
   "codemirror_mode": {
    "name": "ipython",
    "version": 3
   },
   "file_extension": ".py",
   "mimetype": "text/x-python",
   "name": "python",
   "nbconvert_exporter": "python",
   "pygments_lexer": "ipython3",
   "version": "3.6.1"
  }
 },
 "nbformat": 4,
 "nbformat_minor": 2
}
